{
 "cells": [
  {
   "cell_type": "code",
   "execution_count": 1,
   "id": "125e3af2",
   "metadata": {},
   "outputs": [],
   "source": [
    "import pandas as pandas\n",
    "from matplotlib import pyplot as pyplot\n",
    "import numpy as np\n",
    "%matplotlib inline"
   ]
  },
  {
   "cell_type": "code",
   "execution_count": 2,
   "id": "9180fd6c",
   "metadata": {},
   "outputs": [
    {
     "data": {
      "text/html": [
       "<div>\n",
       "<style scoped>\n",
       "    .dataframe tbody tr th:only-of-type {\n",
       "        vertical-align: middle;\n",
       "    }\n",
       "\n",
       "    .dataframe tbody tr th {\n",
       "        vertical-align: top;\n",
       "    }\n",
       "\n",
       "    .dataframe thead th {\n",
       "        text-align: right;\n",
       "    }\n",
       "</style>\n",
       "<table border=\"1\" class=\"dataframe\">\n",
       "  <thead>\n",
       "    <tr style=\"text-align: right;\">\n",
       "      <th></th>\n",
       "      <th>customerID</th>\n",
       "      <th>gender</th>\n",
       "      <th>SeniorCitizen</th>\n",
       "      <th>Partner</th>\n",
       "      <th>Dependents</th>\n",
       "      <th>tenure</th>\n",
       "      <th>PhoneService</th>\n",
       "      <th>MultipleLines</th>\n",
       "      <th>InternetService</th>\n",
       "      <th>OnlineSecurity</th>\n",
       "      <th>...</th>\n",
       "      <th>DeviceProtection</th>\n",
       "      <th>TechSupport</th>\n",
       "      <th>StreamingTV</th>\n",
       "      <th>StreamingMovies</th>\n",
       "      <th>Contract</th>\n",
       "      <th>PaperlessBilling</th>\n",
       "      <th>PaymentMethod</th>\n",
       "      <th>MonthlyCharges</th>\n",
       "      <th>TotalCharges</th>\n",
       "      <th>Churn</th>\n",
       "    </tr>\n",
       "  </thead>\n",
       "  <tbody>\n",
       "    <tr>\n",
       "      <th>3523</th>\n",
       "      <td>0378-CJKPV</td>\n",
       "      <td>Female</td>\n",
       "      <td>0</td>\n",
       "      <td>Yes</td>\n",
       "      <td>No</td>\n",
       "      <td>72</td>\n",
       "      <td>Yes</td>\n",
       "      <td>Yes</td>\n",
       "      <td>Fiber optic</td>\n",
       "      <td>Yes</td>\n",
       "      <td>...</td>\n",
       "      <td>Yes</td>\n",
       "      <td>Yes</td>\n",
       "      <td>Yes</td>\n",
       "      <td>Yes</td>\n",
       "      <td>Two year</td>\n",
       "      <td>No</td>\n",
       "      <td>Credit card (automatic)</td>\n",
       "      <td>112.10</td>\n",
       "      <td>7965.95</td>\n",
       "      <td>No</td>\n",
       "    </tr>\n",
       "    <tr>\n",
       "      <th>1621</th>\n",
       "      <td>6352-TWCAU</td>\n",
       "      <td>Female</td>\n",
       "      <td>0</td>\n",
       "      <td>No</td>\n",
       "      <td>No</td>\n",
       "      <td>35</td>\n",
       "      <td>Yes</td>\n",
       "      <td>Yes</td>\n",
       "      <td>Fiber optic</td>\n",
       "      <td>No</td>\n",
       "      <td>...</td>\n",
       "      <td>No</td>\n",
       "      <td>No</td>\n",
       "      <td>Yes</td>\n",
       "      <td>No</td>\n",
       "      <td>Month-to-month</td>\n",
       "      <td>Yes</td>\n",
       "      <td>Electronic check</td>\n",
       "      <td>86.45</td>\n",
       "      <td>3029.1</td>\n",
       "      <td>Yes</td>\n",
       "    </tr>\n",
       "    <tr>\n",
       "      <th>2717</th>\n",
       "      <td>0244-LGNFY</td>\n",
       "      <td>Female</td>\n",
       "      <td>0</td>\n",
       "      <td>Yes</td>\n",
       "      <td>Yes</td>\n",
       "      <td>72</td>\n",
       "      <td>Yes</td>\n",
       "      <td>Yes</td>\n",
       "      <td>DSL</td>\n",
       "      <td>Yes</td>\n",
       "      <td>...</td>\n",
       "      <td>Yes</td>\n",
       "      <td>Yes</td>\n",
       "      <td>Yes</td>\n",
       "      <td>Yes</td>\n",
       "      <td>Two year</td>\n",
       "      <td>No</td>\n",
       "      <td>Bank transfer (automatic)</td>\n",
       "      <td>92.65</td>\n",
       "      <td>6733</td>\n",
       "      <td>No</td>\n",
       "    </tr>\n",
       "    <tr>\n",
       "      <th>6560</th>\n",
       "      <td>9801-NOSHQ</td>\n",
       "      <td>Male</td>\n",
       "      <td>0</td>\n",
       "      <td>No</td>\n",
       "      <td>Yes</td>\n",
       "      <td>23</td>\n",
       "      <td>Yes</td>\n",
       "      <td>No</td>\n",
       "      <td>No</td>\n",
       "      <td>No internet service</td>\n",
       "      <td>...</td>\n",
       "      <td>No internet service</td>\n",
       "      <td>No internet service</td>\n",
       "      <td>No internet service</td>\n",
       "      <td>No internet service</td>\n",
       "      <td>One year</td>\n",
       "      <td>No</td>\n",
       "      <td>Mailed check</td>\n",
       "      <td>19.80</td>\n",
       "      <td>465.45</td>\n",
       "      <td>No</td>\n",
       "    </tr>\n",
       "    <tr>\n",
       "      <th>3219</th>\n",
       "      <td>3896-ZVNET</td>\n",
       "      <td>Female</td>\n",
       "      <td>0</td>\n",
       "      <td>Yes</td>\n",
       "      <td>Yes</td>\n",
       "      <td>24</td>\n",
       "      <td>Yes</td>\n",
       "      <td>Yes</td>\n",
       "      <td>No</td>\n",
       "      <td>No internet service</td>\n",
       "      <td>...</td>\n",
       "      <td>No internet service</td>\n",
       "      <td>No internet service</td>\n",
       "      <td>No internet service</td>\n",
       "      <td>No internet service</td>\n",
       "      <td>Two year</td>\n",
       "      <td>No</td>\n",
       "      <td>Mailed check</td>\n",
       "      <td>24.70</td>\n",
       "      <td>571.75</td>\n",
       "      <td>No</td>\n",
       "    </tr>\n",
       "  </tbody>\n",
       "</table>\n",
       "<p>5 rows × 21 columns</p>\n",
       "</div>"
      ],
      "text/plain": [
       "      customerID  gender  SeniorCitizen Partner Dependents  tenure  \\\n",
       "3523  0378-CJKPV  Female              0     Yes         No      72   \n",
       "1621  6352-TWCAU  Female              0      No         No      35   \n",
       "2717  0244-LGNFY  Female              0     Yes        Yes      72   \n",
       "6560  9801-NOSHQ    Male              0      No        Yes      23   \n",
       "3219  3896-ZVNET  Female              0     Yes        Yes      24   \n",
       "\n",
       "     PhoneService MultipleLines InternetService       OnlineSecurity  ...  \\\n",
       "3523          Yes           Yes     Fiber optic                  Yes  ...   \n",
       "1621          Yes           Yes     Fiber optic                   No  ...   \n",
       "2717          Yes           Yes             DSL                  Yes  ...   \n",
       "6560          Yes            No              No  No internet service  ...   \n",
       "3219          Yes           Yes              No  No internet service  ...   \n",
       "\n",
       "         DeviceProtection          TechSupport          StreamingTV  \\\n",
       "3523                  Yes                  Yes                  Yes   \n",
       "1621                   No                   No                  Yes   \n",
       "2717                  Yes                  Yes                  Yes   \n",
       "6560  No internet service  No internet service  No internet service   \n",
       "3219  No internet service  No internet service  No internet service   \n",
       "\n",
       "          StreamingMovies        Contract PaperlessBilling  \\\n",
       "3523                  Yes        Two year               No   \n",
       "1621                   No  Month-to-month              Yes   \n",
       "2717                  Yes        Two year               No   \n",
       "6560  No internet service        One year               No   \n",
       "3219  No internet service        Two year               No   \n",
       "\n",
       "                  PaymentMethod MonthlyCharges  TotalCharges Churn  \n",
       "3523    Credit card (automatic)         112.10       7965.95    No  \n",
       "1621           Electronic check          86.45        3029.1   Yes  \n",
       "2717  Bank transfer (automatic)          92.65          6733    No  \n",
       "6560               Mailed check          19.80        465.45    No  \n",
       "3219               Mailed check          24.70        571.75    No  \n",
       "\n",
       "[5 rows x 21 columns]"
      ]
     },
     "execution_count": 2,
     "metadata": {},
     "output_type": "execute_result"
    }
   ],
   "source": [
    "data = pandas.read_csv('customer_churn.csv')\n",
    "data.sample(5)"
   ]
  },
  {
   "cell_type": "code",
   "execution_count": 3,
   "id": "eff06184",
   "metadata": {},
   "outputs": [
    {
     "data": {
      "text/plain": [
       "customerID           object\n",
       "gender               object\n",
       "SeniorCitizen         int64\n",
       "Partner              object\n",
       "Dependents           object\n",
       "tenure                int64\n",
       "PhoneService         object\n",
       "MultipleLines        object\n",
       "InternetService      object\n",
       "OnlineSecurity       object\n",
       "OnlineBackup         object\n",
       "DeviceProtection     object\n",
       "TechSupport          object\n",
       "StreamingTV          object\n",
       "StreamingMovies      object\n",
       "Contract             object\n",
       "PaperlessBilling     object\n",
       "PaymentMethod        object\n",
       "MonthlyCharges      float64\n",
       "TotalCharges         object\n",
       "Churn                object\n",
       "dtype: object"
      ]
     },
     "execution_count": 3,
     "metadata": {},
     "output_type": "execute_result"
    }
   ],
   "source": [
    "data.dtypes"
   ]
  },
  {
   "cell_type": "markdown",
   "id": "af5cfb00",
   "metadata": {},
   "source": [
    "drop unessential columns like customerId"
   ]
  },
  {
   "cell_type": "code",
   "execution_count": 4,
   "id": "c3609bbf",
   "metadata": {},
   "outputs": [
    {
     "data": {
      "text/plain": [
       "<bound method NDFrame.head of       gender  SeniorCitizen Partner Dependents  tenure PhoneService  \\\n",
       "0     Female              0     Yes         No       1           No   \n",
       "1       Male              0      No         No      34          Yes   \n",
       "2       Male              0      No         No       2          Yes   \n",
       "3       Male              0      No         No      45           No   \n",
       "4     Female              0      No         No       2          Yes   \n",
       "...      ...            ...     ...        ...     ...          ...   \n",
       "7038    Male              0     Yes        Yes      24          Yes   \n",
       "7039  Female              0     Yes        Yes      72          Yes   \n",
       "7040  Female              0     Yes        Yes      11           No   \n",
       "7041    Male              1     Yes         No       4          Yes   \n",
       "7042    Male              0      No         No      66          Yes   \n",
       "\n",
       "         MultipleLines InternetService OnlineSecurity OnlineBackup  \\\n",
       "0     No phone service             DSL             No          Yes   \n",
       "1                   No             DSL            Yes           No   \n",
       "2                   No             DSL            Yes          Yes   \n",
       "3     No phone service             DSL            Yes           No   \n",
       "4                   No     Fiber optic             No           No   \n",
       "...                ...             ...            ...          ...   \n",
       "7038               Yes             DSL            Yes           No   \n",
       "7039               Yes     Fiber optic             No          Yes   \n",
       "7040  No phone service             DSL            Yes           No   \n",
       "7041               Yes     Fiber optic             No           No   \n",
       "7042                No     Fiber optic            Yes           No   \n",
       "\n",
       "     DeviceProtection TechSupport StreamingTV StreamingMovies        Contract  \\\n",
       "0                  No          No          No              No  Month-to-month   \n",
       "1                 Yes          No          No              No        One year   \n",
       "2                  No          No          No              No  Month-to-month   \n",
       "3                 Yes         Yes          No              No        One year   \n",
       "4                  No          No          No              No  Month-to-month   \n",
       "...               ...         ...         ...             ...             ...   \n",
       "7038              Yes         Yes         Yes             Yes        One year   \n",
       "7039              Yes          No         Yes             Yes        One year   \n",
       "7040               No          No          No              No  Month-to-month   \n",
       "7041               No          No          No              No  Month-to-month   \n",
       "7042              Yes         Yes         Yes             Yes        Two year   \n",
       "\n",
       "     PaperlessBilling              PaymentMethod  MonthlyCharges TotalCharges  \\\n",
       "0                 Yes           Electronic check           29.85        29.85   \n",
       "1                  No               Mailed check           56.95       1889.5   \n",
       "2                 Yes               Mailed check           53.85       108.15   \n",
       "3                  No  Bank transfer (automatic)           42.30      1840.75   \n",
       "4                 Yes           Electronic check           70.70       151.65   \n",
       "...               ...                        ...             ...          ...   \n",
       "7038              Yes               Mailed check           84.80       1990.5   \n",
       "7039              Yes    Credit card (automatic)          103.20       7362.9   \n",
       "7040              Yes           Electronic check           29.60       346.45   \n",
       "7041              Yes               Mailed check           74.40        306.6   \n",
       "7042              Yes  Bank transfer (automatic)          105.65       6844.5   \n",
       "\n",
       "     Churn  \n",
       "0       No  \n",
       "1       No  \n",
       "2      Yes  \n",
       "3       No  \n",
       "4      Yes  \n",
       "...    ...  \n",
       "7038    No  \n",
       "7039    No  \n",
       "7040    No  \n",
       "7041   Yes  \n",
       "7042    No  \n",
       "\n",
       "[7043 rows x 20 columns]>"
      ]
     },
     "execution_count": 4,
     "metadata": {},
     "output_type": "execute_result"
    }
   ],
   "source": [
    "data.drop('customerID', axis='columns', inplace=True)\n",
    "data.head"
   ]
  },
  {
   "cell_type": "markdown",
   "id": "74c77bea",
   "metadata": {},
   "source": [
    "convert TotalCharges into numeric\n"
   ]
  },
  {
   "cell_type": "code",
   "execution_count": 5,
   "id": "55b7e12f",
   "metadata": {},
   "outputs": [
    {
     "data": {
      "text/plain": [
       "array(['29.85', '1889.5', '108.15', ..., '346.45', '306.6', '6844.5'],\n",
       "      dtype=object)"
      ]
     },
     "execution_count": 5,
     "metadata": {},
     "output_type": "execute_result"
    }
   ],
   "source": [
    "data.TotalCharges.values"
   ]
  },
  {
   "cell_type": "markdown",
   "id": "45cbf597",
   "metadata": {},
   "source": [
    "TotalCharges values are in string format"
   ]
  },
  {
   "cell_type": "code",
   "execution_count": 6,
   "id": "912a8a9e",
   "metadata": {},
   "outputs": [
    {
     "data": {
      "text/plain": [
       "<bound method Series.isnull of 0         29.85\n",
       "1       1889.50\n",
       "2        108.15\n",
       "3       1840.75\n",
       "4        151.65\n",
       "         ...   \n",
       "7038    1990.50\n",
       "7039    7362.90\n",
       "7040     346.45\n",
       "7041     306.60\n",
       "7042    6844.50\n",
       "Name: TotalCharges, Length: 7043, dtype: float64>"
      ]
     },
     "execution_count": 6,
     "metadata": {},
     "output_type": "execute_result"
    }
   ],
   "source": [
    "pandas.to_numeric(data.TotalCharges, errors='coerce').isnull"
   ]
  },
  {
   "cell_type": "code",
   "execution_count": 7,
   "id": "14b0c231",
   "metadata": {},
   "outputs": [
    {
     "data": {
      "text/plain": [
       "(7043, 20)"
      ]
     },
     "execution_count": 7,
     "metadata": {},
     "output_type": "execute_result"
    }
   ],
   "source": [
    "data.shape"
   ]
  },
  {
   "cell_type": "code",
   "execution_count": 8,
   "id": "24e27411",
   "metadata": {},
   "outputs": [
    {
     "data": {
      "text/plain": [
       "(11, 20)"
      ]
     },
     "execution_count": 8,
     "metadata": {},
     "output_type": "execute_result"
    }
   ],
   "source": [
    "data[pandas.to_numeric(data.TotalCharges, errors='coerce').isnull()].shape"
   ]
  },
  {
   "cell_type": "markdown",
   "id": "6f1073db",
   "metadata": {},
   "source": [
    "There are 11 rows Totalcharges is null. lets drop these rows"
   ]
  },
  {
   "cell_type": "code",
   "execution_count": 9,
   "id": "e225bbdb",
   "metadata": {},
   "outputs": [
    {
     "data": {
      "text/plain": [
       "(7032, 20)"
      ]
     },
     "execution_count": 9,
     "metadata": {},
     "output_type": "execute_result"
    }
   ],
   "source": [
    "data1 = data[data.TotalCharges != ' ']\n",
    "data1.shape"
   ]
  },
  {
   "cell_type": "markdown",
   "id": "a9a92ec3",
   "metadata": {},
   "source": [
    "After dropping null in TotalCharges, now can convert to numeric"
   ]
  },
  {
   "cell_type": "code",
   "execution_count": 10,
   "id": "f2f8027c",
   "metadata": {},
   "outputs": [
    {
     "name": "stderr",
     "output_type": "stream",
     "text": [
      "C:\\Users\\HP PROBOOK\\AppData\\Local\\Temp\\ipykernel_26080\\481107861.py:1: SettingWithCopyWarning: \n",
      "A value is trying to be set on a copy of a slice from a DataFrame.\n",
      "Try using .loc[row_indexer,col_indexer] = value instead\n",
      "\n",
      "See the caveats in the documentation: https://pandas.pydata.org/pandas-docs/stable/user_guide/indexing.html#returning-a-view-versus-a-copy\n",
      "  data1.TotalCharges = pandas.to_numeric(data1.TotalCharges)\n"
     ]
    }
   ],
   "source": [
    "data1.TotalCharges = pandas.to_numeric(data1.TotalCharges)"
   ]
  },
  {
   "cell_type": "code",
   "execution_count": 11,
   "id": "ea7e229d",
   "metadata": {},
   "outputs": [
    {
     "data": {
      "text/plain": [
       "dtype('float64')"
      ]
     },
     "execution_count": 11,
     "metadata": {},
     "output_type": "execute_result"
    }
   ],
   "source": [
    "data1.TotalCharges.dtype"
   ]
  },
  {
   "cell_type": "code",
   "execution_count": 12,
   "id": "3459ae10",
   "metadata": {},
   "outputs": [],
   "source": [
    "tenure_churn_no = data1[data1.Churn=='No'].tenure  #people who leave the company\n",
    "tenure_churn_yes = data1[data1.Churn=='Yes'].tenure"
   ]
  },
  {
   "cell_type": "code",
   "execution_count": 13,
   "id": "0775d318",
   "metadata": {},
   "outputs": [
    {
     "data": {
      "text/plain": [
       "(array([[ 847.,  476.,  402.,  424.,  371.,  346.,  380.,  425.,  455.,\n",
       "         1037.],\n",
       "        [ 877.,  259.,  159.,  114.,  102.,   98.,   72.,   70.,   46.,\n",
       "           72.]]),\n",
       " array([ 1. ,  8.1, 15.2, 22.3, 29.4, 36.5, 43.6, 50.7, 57.8, 64.9, 72. ]),\n",
       " <a list of 2 BarContainer objects>)"
      ]
     },
     "execution_count": 13,
     "metadata": {},
     "output_type": "execute_result"
    },
    {
     "data": {
      "image/png": "[encoded data removed]",
      "text/plain": [
       "<Figure size 640x480 with 1 Axes>"
      ]
     },
     "metadata": {},
     "output_type": "display_data"
    }
   ],
   "source": [
    "pyplot.hist([tenure_churn_no, tenure_churn_yes])"
   ]
  },
  {
   "cell_type": "markdown",
   "id": "ffe121eb",
   "metadata": {},
   "source": [
    "Get categorical columns. and skip numarical columns"
   ]
  },
  {
   "cell_type": "code",
   "execution_count": 14,
   "id": "8c67ed2f",
   "metadata": {},
   "outputs": [
    {
     "name": "stdout",
     "output_type": "stream",
     "text": [
      "gender    ['Female' 'Male']\n",
      "Partner    ['Yes' 'No']\n",
      "Dependents    ['No' 'Yes']\n",
      "PhoneService    ['No' 'Yes']\n",
      "MultipleLines    ['No phone service' 'No' 'Yes']\n",
      "InternetService    ['DSL' 'Fiber optic' 'No']\n",
      "OnlineSecurity    ['No' 'Yes' 'No internet service']\n",
      "OnlineBackup    ['Yes' 'No' 'No internet service']\n",
      "DeviceProtection    ['No' 'Yes' 'No internet service']\n",
      "TechSupport    ['No' 'Yes' 'No internet service']\n",
      "StreamingTV    ['No' 'Yes' 'No internet service']\n",
      "StreamingMovies    ['No' 'Yes' 'No internet service']\n",
      "Contract    ['Month-to-month' 'One year' 'Two year']\n",
      "PaperlessBilling    ['Yes' 'No']\n",
      "PaymentMethod    ['Electronic check' 'Mailed check' 'Bank transfer (automatic)'\n",
      " 'Credit card (automatic)']\n",
      "Churn    ['No' 'Yes']\n"
     ]
    }
   ],
   "source": [
    "\n",
    "for column in data1:\n",
    "     if data1[column].dtype == \"object\":\n",
    "       print(f\"{column}    {data1[column].unique()}\" )"
   ]
  },
  {
   "cell_type": "markdown",
   "id": "584c38e3",
   "metadata": {},
   "source": [
    "['No' 'Yes' 'No internet service']  here No internet service is similar to the No. then replace it as No"
   ]
  },
  {
   "cell_type": "code",
   "execution_count": 15,
   "id": "4f014d5f",
   "metadata": {},
   "outputs": [
    {
     "name": "stderr",
     "output_type": "stream",
     "text": [
      "C:\\Users\\HP PROBOOK\\AppData\\Local\\Temp\\ipykernel_26080\\1363846761.py:1: SettingWithCopyWarning: \n",
      "A value is trying to be set on a copy of a slice from a DataFrame\n",
      "\n",
      "See the caveats in the documentation: https://pandas.pydata.org/pandas-docs/stable/user_guide/indexing.html#returning-a-view-versus-a-copy\n",
      "  data1.replace(\"No internet service\", \"No\", inplace=True)\n",
      "C:\\Users\\HP PROBOOK\\AppData\\Local\\Temp\\ipykernel_26080\\1363846761.py:2: SettingWithCopyWarning: \n",
      "A value is trying to be set on a copy of a slice from a DataFrame\n",
      "\n",
      "See the caveats in the documentation: https://pandas.pydata.org/pandas-docs/stable/user_guide/indexing.html#returning-a-view-versus-a-copy\n",
      "  data1.replace(\"No phone service\", \"No\", inplace=True)\n"
     ]
    }
   ],
   "source": [
    "data1.replace(\"No internet service\", \"No\", inplace=True)\n",
    "data1.replace(\"No phone service\", \"No\", inplace=True)"
   ]
  },
  {
   "cell_type": "code",
   "execution_count": 16,
   "id": "ec65adf4",
   "metadata": {},
   "outputs": [
    {
     "name": "stdout",
     "output_type": "stream",
     "text": [
      "gender    ['Female' 'Male']\n",
      "Partner    ['Yes' 'No']\n",
      "Dependents    ['No' 'Yes']\n",
      "PhoneService    ['No' 'Yes']\n",
      "MultipleLines    ['No' 'Yes']\n",
      "InternetService    ['DSL' 'Fiber optic' 'No']\n",
      "OnlineSecurity    ['No' 'Yes']\n",
      "OnlineBackup    ['Yes' 'No']\n",
      "DeviceProtection    ['No' 'Yes']\n",
      "TechSupport    ['No' 'Yes']\n",
      "StreamingTV    ['No' 'Yes']\n",
      "StreamingMovies    ['No' 'Yes']\n",
      "Contract    ['Month-to-month' 'One year' 'Two year']\n",
      "PaperlessBilling    ['Yes' 'No']\n",
      "PaymentMethod    ['Electronic check' 'Mailed check' 'Bank transfer (automatic)'\n",
      " 'Credit card (automatic)']\n",
      "Churn    ['No' 'Yes']\n"
     ]
    }
   ],
   "source": [
    "\n",
    "for column in data1:\n",
    "     if data1[column].dtype == \"object\":\n",
    "       print(f\"{column}    {data1[column].unique()}\" )\n",
    "       "
   ]
  },
  {
   "cell_type": "markdown",
   "id": "b588956d",
   "metadata": {},
   "source": [
    "Labelencoding \n",
    "Machine learning cant understand categorical values. then we need to convert it as numerical\n"
   ]
  },
  {
   "cell_type": "code",
   "execution_count": 17,
   "id": "a903f1e2",
   "metadata": {},
   "outputs": [
    {
     "name": "stderr",
     "output_type": "stream",
     "text": [
      "C:\\Users\\HP PROBOOK\\AppData\\Local\\Temp\\ipykernel_26080\\3068950350.py:3: FutureWarning: A value is trying to be set on a copy of a DataFrame or Series through chained assignment using an inplace method.\n",
      "The behavior will change in pandas 3.0. This inplace method will never work because the intermediate object on which we are setting values always behaves as a copy.\n",
      "\n",
      "For example, when doing 'df[col].method(value, inplace=True)', try using 'df.method({col: value}, inplace=True)' or df[col] = df[col].method(value) instead, to perform the operation inplace on the original object.\n",
      "\n",
      "\n",
      "  data1[column].replace({\"No\": 0, \"Yes\":1}, inplace=True)\n",
      "C:\\Users\\HP PROBOOK\\AppData\\Local\\Temp\\ipykernel_26080\\3068950350.py:3: FutureWarning: Downcasting behavior in `replace` is deprecated and will be removed in a future version. To retain the old behavior, explicitly call `result.infer_objects(copy=False)`. To opt-in to the future behavior, set `pd.set_option('future.no_silent_downcasting', True)`\n",
      "  data1[column].replace({\"No\": 0, \"Yes\":1}, inplace=True)\n",
      "C:\\Users\\HP PROBOOK\\AppData\\Local\\Temp\\ipykernel_26080\\3068950350.py:3: SettingWithCopyWarning: \n",
      "A value is trying to be set on a copy of a slice from a DataFrame\n",
      "\n",
      "See the caveats in the documentation: https://pandas.pydata.org/pandas-docs/stable/user_guide/indexing.html#returning-a-view-versus-a-copy\n",
      "  data1[column].replace({\"No\": 0, \"Yes\":1}, inplace=True)\n"
     ]
    }
   ],
   "source": [
    "yes_no_columns = ['Partner', 'Dependents', 'PhoneService', 'MultipleLines', 'OnlineSecurity', 'OnlineBackup', 'DeviceProtection', 'TechSupport', 'StreamingTV', 'StreamingMovies', 'PaperlessBilling', 'Churn']\n",
    "for column in yes_no_columns:\n",
    "    data1[column].replace({\"No\": 0, \"Yes\":1}, inplace=True)"
   ]
  },
  {
   "cell_type": "code",
   "execution_count": 18,
   "id": "5a911278",
   "metadata": {},
   "outputs": [
    {
     "name": "stdout",
     "output_type": "stream",
     "text": [
      "gender    ['Female' 'Male']\n",
      "SeniorCitizen    [0 1]\n",
      "Partner    [1 0]\n",
      "Dependents    [0 1]\n",
      "tenure    [ 1 34  2 45  8 22 10 28 62 13 16 58 49 25 69 52 71 21 12 30 47 72 17 27\n",
      "  5 46 11 70 63 43 15 60 18 66  9  3 31 50 64 56  7 42 35 48 29 65 38 68\n",
      " 32 55 37 36 41  6  4 33 67 23 57 61 14 20 53 40 59 24 44 19 54 51 26 39]\n",
      "PhoneService    [0 1]\n",
      "MultipleLines    [0 1]\n",
      "InternetService    ['DSL' 'Fiber optic' 'No']\n",
      "OnlineSecurity    [0 1]\n",
      "OnlineBackup    [1 0]\n",
      "DeviceProtection    [0 1]\n",
      "TechSupport    [0 1]\n",
      "StreamingTV    [0 1]\n",
      "StreamingMovies    [0 1]\n",
      "Contract    ['Month-to-month' 'One year' 'Two year']\n",
      "PaperlessBilling    [1 0]\n",
      "PaymentMethod    ['Electronic check' 'Mailed check' 'Bank transfer (automatic)'\n",
      " 'Credit card (automatic)']\n",
      "MonthlyCharges    [29.85 56.95 53.85 ... 63.1  44.2  78.7 ]\n",
      "TotalCharges    [  29.85 1889.5   108.15 ...  346.45  306.6  6844.5 ]\n",
      "Churn    [0 1]\n"
     ]
    }
   ],
   "source": [
    "for column in data1:\n",
    "    \n",
    "       print(f\"{column}    {data1[column].unique()}\" )\n",
    "       "
   ]
  },
  {
   "cell_type": "code",
   "execution_count": 19,
   "id": "855ca5da",
   "metadata": {},
   "outputs": [
    {
     "name": "stderr",
     "output_type": "stream",
     "text": [
      "C:\\Users\\HP PROBOOK\\AppData\\Local\\Temp\\ipykernel_26080\\3275411073.py:1: FutureWarning: A value is trying to be set on a copy of a DataFrame or Series through chained assignment using an inplace method.\n",
      "The behavior will change in pandas 3.0. This inplace method will never work because the intermediate object on which we are setting values always behaves as a copy.\n",
      "\n",
      "For example, when doing 'df[col].method(value, inplace=True)', try using 'df.method({col: value}, inplace=True)' or df[col] = df[col].method(value) instead, to perform the operation inplace on the original object.\n",
      "\n",
      "\n",
      "  data1['gender'].replace({\"Female\": 1, \"Male\":0}, inplace=True)\n",
      "C:\\Users\\HP PROBOOK\\AppData\\Local\\Temp\\ipykernel_26080\\3275411073.py:1: FutureWarning: Downcasting behavior in `replace` is deprecated and will be removed in a future version. To retain the old behavior, explicitly call `result.infer_objects(copy=False)`. To opt-in to the future behavior, set `pd.set_option('future.no_silent_downcasting', True)`\n",
      "  data1['gender'].replace({\"Female\": 1, \"Male\":0}, inplace=True)\n",
      "C:\\Users\\HP PROBOOK\\AppData\\Local\\Temp\\ipykernel_26080\\3275411073.py:1: SettingWithCopyWarning: \n",
      "A value is trying to be set on a copy of a slice from a DataFrame\n",
      "\n",
      "See the caveats in the documentation: https://pandas.pydata.org/pandas-docs/stable/user_guide/indexing.html#returning-a-view-versus-a-copy\n",
      "  data1['gender'].replace({\"Female\": 1, \"Male\":0}, inplace=True)\n"
     ]
    }
   ],
   "source": [
    "data1['gender'].replace({\"Female\": 1, \"Male\":0}, inplace=True)"
   ]
  },
  {
   "cell_type": "code",
   "execution_count": 20,
   "id": "7ed00cd3",
   "metadata": {},
   "outputs": [
    {
     "data": {
      "text/plain": [
       "<bound method Series.unique of 0       1\n",
       "1       0\n",
       "2       0\n",
       "3       0\n",
       "4       1\n",
       "       ..\n",
       "7038    0\n",
       "7039    1\n",
       "7040    1\n",
       "7041    0\n",
       "7042    0\n",
       "Name: gender, Length: 7032, dtype: int64>"
      ]
     },
     "execution_count": 20,
     "metadata": {},
     "output_type": "execute_result"
    }
   ],
   "source": [
    "data1['gender'].unique"
   ]
  },
  {
   "cell_type": "code",
   "execution_count": 21,
   "id": "8f6af940",
   "metadata": {},
   "outputs": [],
   "source": [
    "data2 = pandas.get_dummies(data1, columns=['InternetService', 'PaymentMethod', 'Contract'])"
   ]
  },
  {
   "cell_type": "code",
   "execution_count": 22,
   "id": "01b6690b",
   "metadata": {},
   "outputs": [
    {
     "data": {
      "text/plain": [
       "gender                                       int64\n",
       "SeniorCitizen                                int64\n",
       "Partner                                      int64\n",
       "Dependents                                   int64\n",
       "tenure                                       int64\n",
       "PhoneService                                 int64\n",
       "MultipleLines                                int64\n",
       "OnlineSecurity                               int64\n",
       "OnlineBackup                                 int64\n",
       "DeviceProtection                             int64\n",
       "TechSupport                                  int64\n",
       "StreamingTV                                  int64\n",
       "StreamingMovies                              int64\n",
       "PaperlessBilling                             int64\n",
       "MonthlyCharges                             float64\n",
       "TotalCharges                               float64\n",
       "Churn                                        int64\n",
       "InternetService_DSL                           bool\n",
       "InternetService_Fiber optic                   bool\n",
       "InternetService_No                            bool\n",
       "PaymentMethod_Bank transfer (automatic)       bool\n",
       "PaymentMethod_Credit card (automatic)         bool\n",
       "PaymentMethod_Electronic check                bool\n",
       "PaymentMethod_Mailed check                    bool\n",
       "Contract_Month-to-month                       bool\n",
       "Contract_One year                             bool\n",
       "Contract_Two year                             bool\n",
       "dtype: object"
      ]
     },
     "execution_count": 22,
     "metadata": {},
     "output_type": "execute_result"
    }
   ],
   "source": [
    "data2.dtypes"
   ]
  },
  {
   "cell_type": "markdown",
   "id": "c75baddc",
   "metadata": {},
   "source": [
    "scale MonthlyCharges, TotalCharges and tenure\n",
    "these columns not in o,1. so we need to scale those columns"
   ]
  },
  {
   "cell_type": "code",
   "execution_count": 23,
   "id": "99394d44",
   "metadata": {},
   "outputs": [],
   "source": [
    "from sklearn.preprocessing import MinMaxScaler\n",
    "cols_to_scale = ['tenure', 'MonthlyCharges', 'TotalCharges']\n",
    "scaler = MinMaxScaler()\n",
    "data2[cols_to_scale] = scaler.fit_transform(data2[cols_to_scale])"
   ]
  },
  {
   "cell_type": "code",
   "execution_count": 24,
   "id": "8e0dbb4e",
   "metadata": {},
   "outputs": [
    {
     "data": {
      "text/plain": [
       "<bound method NDFrame.sample of       gender  SeniorCitizen  Partner  Dependents    tenure  PhoneService  \\\n",
       "0          1              0        1           0  0.000000             0   \n",
       "1          0              0        0           0  0.464789             1   \n",
       "2          0              0        0           0  0.014085             1   \n",
       "3          0              0        0           0  0.619718             0   \n",
       "4          1              0        0           0  0.014085             1   \n",
       "...      ...            ...      ...         ...       ...           ...   \n",
       "7038       0              0        1           1  0.323944             1   \n",
       "7039       1              0        1           1  1.000000             1   \n",
       "7040       1              0        1           1  0.140845             0   \n",
       "7041       0              1        1           0  0.042254             1   \n",
       "7042       0              0        0           0  0.915493             1   \n",
       "\n",
       "      MultipleLines  OnlineSecurity  OnlineBackup  DeviceProtection  ...  \\\n",
       "0                 0               0             1                 0  ...   \n",
       "1                 0               1             0                 1  ...   \n",
       "2                 0               1             1                 0  ...   \n",
       "3                 0               1             0                 1  ...   \n",
       "4                 0               0             0                 0  ...   \n",
       "...             ...             ...           ...               ...  ...   \n",
       "7038              1               1             0                 1  ...   \n",
       "7039              1               0             1                 1  ...   \n",
       "7040              0               1             0                 0  ...   \n",
       "7041              1               0             0                 0  ...   \n",
       "7042              0               1             0                 1  ...   \n",
       "\n",
       "      InternetService_DSL  InternetService_Fiber optic  InternetService_No  \\\n",
       "0                    True                        False               False   \n",
       "1                    True                        False               False   \n",
       "2                    True                        False               False   \n",
       "3                    True                        False               False   \n",
       "4                   False                         True               False   \n",
       "...                   ...                          ...                 ...   \n",
       "7038                 True                        False               False   \n",
       "7039                False                         True               False   \n",
       "7040                 True                        False               False   \n",
       "7041                False                         True               False   \n",
       "7042                False                         True               False   \n",
       "\n",
       "      PaymentMethod_Bank transfer (automatic)  \\\n",
       "0                                       False   \n",
       "1                                       False   \n",
       "2                                       False   \n",
       "3                                        True   \n",
       "4                                       False   \n",
       "...                                       ...   \n",
       "7038                                    False   \n",
       "7039                                    False   \n",
       "7040                                    False   \n",
       "7041                                    False   \n",
       "7042                                     True   \n",
       "\n",
       "      PaymentMethod_Credit card (automatic)  PaymentMethod_Electronic check  \\\n",
       "0                                     False                            True   \n",
       "1                                     False                           False   \n",
       "2                                     False                           False   \n",
       "3                                     False                           False   \n",
       "4                                     False                            True   \n",
       "...                                     ...                             ...   \n",
       "7038                                  False                           False   \n",
       "7039                                   True                           False   \n",
       "7040                                  False                            True   \n",
       "7041                                  False                           False   \n",
       "7042                                  False                           False   \n",
       "\n",
       "      PaymentMethod_Mailed check  Contract_Month-to-month  Contract_One year  \\\n",
       "0                          False                     True              False   \n",
       "1                           True                    False               True   \n",
       "2                           True                     True              False   \n",
       "3                          False                    False               True   \n",
       "4                          False                     True              False   \n",
       "...                          ...                      ...                ...   \n",
       "7038                        True                    False               True   \n",
       "7039                       False                    False               True   \n",
       "7040                       False                     True              False   \n",
       "7041                        True                     True              False   \n",
       "7042                       False                    False              False   \n",
       "\n",
       "      Contract_Two year  \n",
       "0                 False  \n",
       "1                 False  \n",
       "2                 False  \n",
       "3                 False  \n",
       "4                 False  \n",
       "...                 ...  \n",
       "7038              False  \n",
       "7039              False  \n",
       "7040              False  \n",
       "7041              False  \n",
       "7042               True  \n",
       "\n",
       "[7032 rows x 27 columns]>"
      ]
     },
     "execution_count": 24,
     "metadata": {},
     "output_type": "execute_result"
    }
   ],
   "source": [
    "data2.sample"
   ]
  },
  {
   "cell_type": "markdown",
   "id": "2c873fea",
   "metadata": {},
   "source": [
    "Identify X and y columns\n"
   ]
  },
  {
   "cell_type": "code",
   "execution_count": 25,
   "id": "e216769f",
   "metadata": {},
   "outputs": [],
   "source": [
    "x = data2.drop('Churn', axis='columns')\n",
    "y = data2['Churn']"
   ]
  },
  {
   "cell_type": "code",
   "execution_count": 26,
   "id": "88c15011",
   "metadata": {},
   "outputs": [],
   "source": [
    "from sklearn.model_selection import train_test_split\n",
    "X_train, X_test, y_train, y_test = train_test_split(x, y, test_size=0.2, random_state=5)"
   ]
  },
  {
   "cell_type": "code",
   "execution_count": 27,
   "id": "ca826c2f",
   "metadata": {},
   "outputs": [
    {
     "data": {
      "text/plain": [
       "26"
      ]
     },
     "execution_count": 27,
     "metadata": {},
     "output_type": "execute_result"
    }
   ],
   "source": [
    "len(X_train.columns)"
   ]
  },
  {
   "cell_type": "code",
   "execution_count": 28,
   "id": "1e7e33b6",
   "metadata": {},
   "outputs": [
    {
     "name": "stderr",
     "output_type": "stream",
     "text": [
      "d:\\Anaconda\\envs\\ds_env\\lib\\site-packages\\keras\\src\\layers\\core\\dense.py:87: UserWarning: Do not pass an `input_shape`/`input_dim` argument to a layer. When using Sequential models, prefer using an `Input(shape)` object as the first layer in the model instead.\n",
      "  super().__init__(activity_regularizer=activity_regularizer, **kwargs)\n"
     ]
    },
    {
     "name": "stdout",
     "output_type": "stream",
     "text": [
      "Epoch 1/100\n",
      "\u001b[1m176/176\u001b[0m \u001b[32m━━━━━━━━━━━━━━━━━━━━\u001b[0m\u001b[37m\u001b[0m \u001b[1m7s\u001b[0m 6ms/step - accuracy: 0.7150 - loss: 0.5478\n",
      "Epoch 2/100\n",
      "\u001b[1m176/176\u001b[0m \u001b[32m━━━━━━━━━━━━━━━━━━━━\u001b[0m\u001b[37m\u001b[0m \u001b[1m1s\u001b[0m 5ms/step - accuracy: 0.7987 - loss: 0.4353\n",
      "Epoch 3/100\n",
      "\u001b[1m176/176\u001b[0m \u001b[32m━━━━━━━━━━━━━━━━━━━━\u001b[0m\u001b[37m\u001b[0m \u001b[1m1s\u001b[0m 6ms/step - accuracy: 0.8048 - loss: 0.4202\n",
      "Epoch 4/100\n",
      "\u001b[1m176/176\u001b[0m \u001b[32m━━━━━━━━━━━━━━━━━━━━\u001b[0m\u001b[37m\u001b[0m \u001b[1m1s\u001b[0m 5ms/step - accuracy: 0.8010 - loss: 0.4188\n",
      "Epoch 5/100\n",
      "\u001b[1m176/176\u001b[0m \u001b[32m━━━━━━━━━━━━━━━━━━━━\u001b[0m\u001b[37m\u001b[0m \u001b[1m1s\u001b[0m 7ms/step - accuracy: 0.7920 - loss: 0.4268\n",
      "Epoch 6/100\n",
      "\u001b[1m176/176\u001b[0m \u001b[32m━━━━━━━━━━━━━━━━━━━━\u001b[0m\u001b[37m\u001b[0m \u001b[1m3s\u001b[0m 14ms/step - accuracy: 0.8093 - loss: 0.4109\n",
      "Epoch 7/100\n",
      "\u001b[1m176/176\u001b[0m \u001b[32m━━━━━━━━━━━━━━━━━━━━\u001b[0m\u001b[37m\u001b[0m \u001b[1m1s\u001b[0m 6ms/step - accuracy: 0.8018 - loss: 0.4171\n",
      "Epoch 8/100\n",
      "\u001b[1m176/176\u001b[0m \u001b[32m━━━━━━━━━━━━━━━━━━━━\u001b[0m\u001b[37m\u001b[0m \u001b[1m1s\u001b[0m 7ms/step - accuracy: 0.8123 - loss: 0.4007\n",
      "Epoch 9/100\n",
      "\u001b[1m176/176\u001b[0m \u001b[32m━━━━━━━━━━━━━━━━━━━━\u001b[0m\u001b[37m\u001b[0m \u001b[1m1s\u001b[0m 5ms/step - accuracy: 0.8053 - loss: 0.4116\n",
      "Epoch 10/100\n",
      "\u001b[1m176/176\u001b[0m \u001b[32m━━━━━━━━━━━━━━━━━━━━\u001b[0m\u001b[37m\u001b[0m \u001b[1m1s\u001b[0m 4ms/step - accuracy: 0.8125 - loss: 0.3999\n",
      "Epoch 11/100\n",
      "\u001b[1m176/176\u001b[0m \u001b[32m━━━━━━━━━━━━━━━━━━━━\u001b[0m\u001b[37m\u001b[0m \u001b[1m1s\u001b[0m 4ms/step - accuracy: 0.8086 - loss: 0.4118\n",
      "Epoch 12/100\n",
      "\u001b[1m176/176\u001b[0m \u001b[32m━━━━━━━━━━━━━━━━━━━━\u001b[0m\u001b[37m\u001b[0m \u001b[1m1s\u001b[0m 5ms/step - accuracy: 0.8218 - loss: 0.3899\n",
      "Epoch 13/100\n",
      "\u001b[1m176/176\u001b[0m \u001b[32m━━━━━━━━━━━━━━━━━━━━\u001b[0m\u001b[37m\u001b[0m \u001b[1m1s\u001b[0m 5ms/step - accuracy: 0.8138 - loss: 0.3998\n",
      "Epoch 14/100\n",
      "\u001b[1m176/176\u001b[0m \u001b[32m━━━━━━━━━━━━━━━━━━━━\u001b[0m\u001b[37m\u001b[0m \u001b[1m1s\u001b[0m 5ms/step - accuracy: 0.8087 - loss: 0.4051\n",
      "Epoch 15/100\n",
      "\u001b[1m176/176\u001b[0m \u001b[32m━━━━━━━━━━━━━━━━━━━━\u001b[0m\u001b[37m\u001b[0m \u001b[1m1s\u001b[0m 4ms/step - accuracy: 0.8135 - loss: 0.3985\n",
      "Epoch 16/100\n",
      "\u001b[1m176/176\u001b[0m \u001b[32m━━━━━━━━━━━━━━━━━━━━\u001b[0m\u001b[37m\u001b[0m \u001b[1m1s\u001b[0m 5ms/step - accuracy: 0.8139 - loss: 0.3997\n",
      "Epoch 17/100\n",
      "\u001b[1m176/176\u001b[0m \u001b[32m━━━━━━━━━━━━━━━━━━━━\u001b[0m\u001b[37m\u001b[0m \u001b[1m1s\u001b[0m 4ms/step - accuracy: 0.8057 - loss: 0.4070\n",
      "Epoch 18/100\n",
      "\u001b[1m176/176\u001b[0m \u001b[32m━━━━━━━━━━━━━━━━━━━━\u001b[0m\u001b[37m\u001b[0m \u001b[1m1s\u001b[0m 5ms/step - accuracy: 0.8008 - loss: 0.4159\n",
      "Epoch 19/100\n",
      "\u001b[1m176/176\u001b[0m \u001b[32m━━━━━━━━━━━━━━━━━━━━\u001b[0m\u001b[37m\u001b[0m \u001b[1m1s\u001b[0m 5ms/step - accuracy: 0.8113 - loss: 0.4014\n",
      "Epoch 20/100\n",
      "\u001b[1m176/176\u001b[0m \u001b[32m━━━━━━━━━━━━━━━━━━━━\u001b[0m\u001b[37m\u001b[0m \u001b[1m1s\u001b[0m 5ms/step - accuracy: 0.8157 - loss: 0.4086\n",
      "Epoch 21/100\n",
      "\u001b[1m176/176\u001b[0m \u001b[32m━━━━━━━━━━━━━━━━━━━━\u001b[0m\u001b[37m\u001b[0m \u001b[1m1s\u001b[0m 5ms/step - accuracy: 0.8047 - loss: 0.4135\n",
      "Epoch 22/100\n",
      "\u001b[1m176/176\u001b[0m \u001b[32m━━━━━━━━━━━━━━━━━━━━\u001b[0m\u001b[37m\u001b[0m \u001b[1m1s\u001b[0m 7ms/step - accuracy: 0.8117 - loss: 0.4040\n",
      "Epoch 23/100\n",
      "\u001b[1m176/176\u001b[0m \u001b[32m━━━━━━━━━━━━━━━━━━━━\u001b[0m\u001b[37m\u001b[0m \u001b[1m1s\u001b[0m 4ms/step - accuracy: 0.8098 - loss: 0.4086\n",
      "Epoch 24/100\n",
      "\u001b[1m176/176\u001b[0m \u001b[32m━━━━━━━━━━━━━━━━━━━━\u001b[0m\u001b[37m\u001b[0m \u001b[1m1s\u001b[0m 5ms/step - accuracy: 0.8190 - loss: 0.4028\n",
      "Epoch 25/100\n",
      "\u001b[1m176/176\u001b[0m \u001b[32m━━━━━━━━━━━━━━━━━━━━\u001b[0m\u001b[37m\u001b[0m \u001b[1m1s\u001b[0m 4ms/step - accuracy: 0.8107 - loss: 0.4015\n",
      "Epoch 26/100\n",
      "\u001b[1m176/176\u001b[0m \u001b[32m━━━━━━━━━━━━━━━━━━━━\u001b[0m\u001b[37m\u001b[0m \u001b[1m1s\u001b[0m 5ms/step - accuracy: 0.8052 - loss: 0.4054\n",
      "Epoch 27/100\n",
      "\u001b[1m176/176\u001b[0m \u001b[32m━━━━━━━━━━━━━━━━━━━━\u001b[0m\u001b[37m\u001b[0m \u001b[1m1s\u001b[0m 5ms/step - accuracy: 0.8160 - loss: 0.3987\n",
      "Epoch 28/100\n",
      "\u001b[1m176/176\u001b[0m \u001b[32m━━━━━━━━━━━━━━━━━━━━\u001b[0m\u001b[37m\u001b[0m \u001b[1m1s\u001b[0m 5ms/step - accuracy: 0.8077 - loss: 0.4022\n",
      "Epoch 29/100\n",
      "\u001b[1m176/176\u001b[0m \u001b[32m━━━━━━━━━━━━━━━━━━━━\u001b[0m\u001b[37m\u001b[0m \u001b[1m1s\u001b[0m 5ms/step - accuracy: 0.8188 - loss: 0.3895\n",
      "Epoch 30/100\n",
      "\u001b[1m176/176\u001b[0m \u001b[32m━━━━━━━━━━━━━━━━━━━━\u001b[0m\u001b[37m\u001b[0m \u001b[1m1s\u001b[0m 4ms/step - accuracy: 0.8115 - loss: 0.4002\n",
      "Epoch 31/100\n",
      "\u001b[1m176/176\u001b[0m \u001b[32m━━━━━━━━━━━━━━━━━━━━\u001b[0m\u001b[37m\u001b[0m \u001b[1m1s\u001b[0m 6ms/step - accuracy: 0.8106 - loss: 0.4002\n",
      "Epoch 32/100\n",
      "\u001b[1m176/176\u001b[0m \u001b[32m━━━━━━━━━━━━━━━━━━━━\u001b[0m\u001b[37m\u001b[0m \u001b[1m2s\u001b[0m 10ms/step - accuracy: 0.8085 - loss: 0.4074\n",
      "Epoch 33/100\n",
      "\u001b[1m176/176\u001b[0m \u001b[32m━━━━━━━━━━━━━━━━━━━━\u001b[0m\u001b[37m\u001b[0m \u001b[1m1s\u001b[0m 6ms/step - accuracy: 0.8137 - loss: 0.3922\n",
      "Epoch 34/100\n",
      "\u001b[1m176/176\u001b[0m \u001b[32m━━━━━━━━━━━━━━━━━━━━\u001b[0m\u001b[37m\u001b[0m \u001b[1m1s\u001b[0m 7ms/step - accuracy: 0.8139 - loss: 0.3932\n",
      "Epoch 35/100\n",
      "\u001b[1m176/176\u001b[0m \u001b[32m━━━━━━━━━━━━━━━━━━━━\u001b[0m\u001b[37m\u001b[0m \u001b[1m1s\u001b[0m 7ms/step - accuracy: 0.8204 - loss: 0.3868\n",
      "Epoch 36/100\n",
      "\u001b[1m176/176\u001b[0m \u001b[32m━━━━━━━━━━━━━━━━━━━━\u001b[0m\u001b[37m\u001b[0m \u001b[1m2s\u001b[0m 8ms/step - accuracy: 0.8119 - loss: 0.3985\n",
      "Epoch 37/100\n",
      "\u001b[1m176/176\u001b[0m \u001b[32m━━━━━━━━━━━━━━━━━━━━\u001b[0m\u001b[37m\u001b[0m \u001b[1m2s\u001b[0m 9ms/step - accuracy: 0.8213 - loss: 0.3965\n",
      "Epoch 38/100\n",
      "\u001b[1m176/176\u001b[0m \u001b[32m━━━━━━━━━━━━━━━━━━━━\u001b[0m\u001b[37m\u001b[0m \u001b[1m1s\u001b[0m 6ms/step - accuracy: 0.8213 - loss: 0.3875\n",
      "Epoch 39/100\n",
      "\u001b[1m176/176\u001b[0m \u001b[32m━━━━━━━━━━━━━━━━━━━━\u001b[0m\u001b[37m\u001b[0m \u001b[1m1s\u001b[0m 5ms/step - accuracy: 0.8230 - loss: 0.3896\n",
      "Epoch 40/100\n",
      "\u001b[1m176/176\u001b[0m \u001b[32m━━━━━━━━━━━━━━━━━━━━\u001b[0m\u001b[37m\u001b[0m \u001b[1m1s\u001b[0m 5ms/step - accuracy: 0.8166 - loss: 0.3870\n",
      "Epoch 41/100\n",
      "\u001b[1m176/176\u001b[0m \u001b[32m━━━━━━━━━━━━━━━━━━━━\u001b[0m\u001b[37m\u001b[0m \u001b[1m1s\u001b[0m 5ms/step - accuracy: 0.8169 - loss: 0.3917\n",
      "Epoch 42/100\n",
      "\u001b[1m176/176\u001b[0m \u001b[32m━━━━━━━━━━━━━━━━━━━━\u001b[0m\u001b[37m\u001b[0m \u001b[1m1s\u001b[0m 4ms/step - accuracy: 0.8201 - loss: 0.3869\n",
      "Epoch 43/100\n",
      "\u001b[1m176/176\u001b[0m \u001b[32m━━━━━━━━━━━━━━━━━━━━\u001b[0m\u001b[37m\u001b[0m \u001b[1m1s\u001b[0m 5ms/step - accuracy: 0.8196 - loss: 0.3897\n",
      "Epoch 44/100\n",
      "\u001b[1m176/176\u001b[0m \u001b[32m━━━━━━━━━━━━━━━━━━━━\u001b[0m\u001b[37m\u001b[0m \u001b[1m1s\u001b[0m 4ms/step - accuracy: 0.8155 - loss: 0.3913\n",
      "Epoch 45/100\n",
      "\u001b[1m176/176\u001b[0m \u001b[32m━━━━━━━━━━━━━━━━━━━━\u001b[0m\u001b[37m\u001b[0m \u001b[1m1s\u001b[0m 4ms/step - accuracy: 0.8145 - loss: 0.3964\n",
      "Epoch 46/100\n",
      "\u001b[1m176/176\u001b[0m \u001b[32m━━━━━━━━━━━━━━━━━━━━\u001b[0m\u001b[37m\u001b[0m \u001b[1m1s\u001b[0m 5ms/step - accuracy: 0.8170 - loss: 0.3950\n",
      "Epoch 47/100\n",
      "\u001b[1m176/176\u001b[0m \u001b[32m━━━━━━━━━━━━━━━━━━━━\u001b[0m\u001b[37m\u001b[0m \u001b[1m1s\u001b[0m 4ms/step - accuracy: 0.8148 - loss: 0.3905\n",
      "Epoch 48/100\n",
      "\u001b[1m176/176\u001b[0m \u001b[32m━━━━━━━━━━━━━━━━━━━━\u001b[0m\u001b[37m\u001b[0m \u001b[1m1s\u001b[0m 4ms/step - accuracy: 0.8206 - loss: 0.3919\n",
      "Epoch 49/100\n",
      "\u001b[1m176/176\u001b[0m \u001b[32m━━━━━━━━━━━━━━━━━━━━\u001b[0m\u001b[37m\u001b[0m \u001b[1m1s\u001b[0m 5ms/step - accuracy: 0.8268 - loss: 0.3809\n",
      "Epoch 50/100\n",
      "\u001b[1m176/176\u001b[0m \u001b[32m━━━━━━━━━━━━━━━━━━━━\u001b[0m\u001b[37m\u001b[0m \u001b[1m1s\u001b[0m 5ms/step - accuracy: 0.8207 - loss: 0.3941\n",
      "Epoch 51/100\n",
      "\u001b[1m176/176\u001b[0m \u001b[32m━━━━━━━━━━━━━━━━━━━━\u001b[0m\u001b[37m\u001b[0m \u001b[1m1s\u001b[0m 4ms/step - accuracy: 0.8096 - loss: 0.3951\n",
      "Epoch 52/100\n",
      "\u001b[1m176/176\u001b[0m \u001b[32m━━━━━━━━━━━━━━━━━━━━\u001b[0m\u001b[37m\u001b[0m \u001b[1m1s\u001b[0m 4ms/step - accuracy: 0.8189 - loss: 0.3893\n",
      "Epoch 53/100\n",
      "\u001b[1m176/176\u001b[0m \u001b[32m━━━━━━━━━━━━━━━━━━━━\u001b[0m\u001b[37m\u001b[0m \u001b[1m1s\u001b[0m 5ms/step - accuracy: 0.8176 - loss: 0.3832\n",
      "Epoch 54/100\n",
      "\u001b[1m176/176\u001b[0m \u001b[32m━━━━━━━━━━━━━━━━━━━━\u001b[0m\u001b[37m\u001b[0m \u001b[1m2s\u001b[0m 8ms/step - accuracy: 0.8185 - loss: 0.3881\n",
      "Epoch 55/100\n",
      "\u001b[1m176/176\u001b[0m \u001b[32m━━━━━━━━━━━━━━━━━━━━\u001b[0m\u001b[37m\u001b[0m \u001b[1m1s\u001b[0m 5ms/step - accuracy: 0.8125 - loss: 0.4026\n",
      "Epoch 56/100\n",
      "\u001b[1m176/176\u001b[0m \u001b[32m━━━━━━━━━━━━━━━━━━━━\u001b[0m\u001b[37m\u001b[0m \u001b[1m1s\u001b[0m 5ms/step - accuracy: 0.8233 - loss: 0.3844\n",
      "Epoch 57/100\n",
      "\u001b[1m176/176\u001b[0m \u001b[32m━━━━━━━━━━━━━━━━━━━━\u001b[0m\u001b[37m\u001b[0m \u001b[1m1s\u001b[0m 5ms/step - accuracy: 0.8166 - loss: 0.3888\n",
      "Epoch 58/100\n",
      "\u001b[1m176/176\u001b[0m \u001b[32m━━━━━━━━━━━━━━━━━━━━\u001b[0m\u001b[37m\u001b[0m \u001b[1m1s\u001b[0m 5ms/step - accuracy: 0.8244 - loss: 0.3793\n",
      "Epoch 59/100\n",
      "\u001b[1m176/176\u001b[0m \u001b[32m━━━━━━━━━━━━━━━━━━━━\u001b[0m\u001b[37m\u001b[0m \u001b[1m1s\u001b[0m 5ms/step - accuracy: 0.8221 - loss: 0.3892\n",
      "Epoch 60/100\n",
      "\u001b[1m176/176\u001b[0m \u001b[32m━━━━━━━━━━━━━━━━━━━━\u001b[0m\u001b[37m\u001b[0m \u001b[1m1s\u001b[0m 4ms/step - accuracy: 0.8197 - loss: 0.3792\n",
      "Epoch 61/100\n",
      "\u001b[1m176/176\u001b[0m \u001b[32m━━━━━━━━━━━━━━━━━━━━\u001b[0m\u001b[37m\u001b[0m \u001b[1m1s\u001b[0m 4ms/step - accuracy: 0.8176 - loss: 0.3866\n",
      "Epoch 62/100\n",
      "\u001b[1m176/176\u001b[0m \u001b[32m━━━━━━━━━━━━━━━━━━━━\u001b[0m\u001b[37m\u001b[0m \u001b[1m1s\u001b[0m 4ms/step - accuracy: 0.8127 - loss: 0.3917\n",
      "Epoch 63/100\n",
      "\u001b[1m176/176\u001b[0m \u001b[32m━━━━━━━━━━━━━━━━━━━━\u001b[0m\u001b[37m\u001b[0m \u001b[1m1s\u001b[0m 4ms/step - accuracy: 0.8185 - loss: 0.3884\n",
      "Epoch 64/100\n",
      "\u001b[1m176/176\u001b[0m \u001b[32m━━━━━━━━━━━━━━━━━━━━\u001b[0m\u001b[37m\u001b[0m \u001b[1m1s\u001b[0m 5ms/step - accuracy: 0.8184 - loss: 0.3907\n",
      "Epoch 65/100\n",
      "\u001b[1m176/176\u001b[0m \u001b[32m━━━━━━━━━━━━━━━━━━━━\u001b[0m\u001b[37m\u001b[0m \u001b[1m1s\u001b[0m 4ms/step - accuracy: 0.8189 - loss: 0.3928\n",
      "Epoch 66/100\n",
      "\u001b[1m176/176\u001b[0m \u001b[32m━━━━━━━━━━━━━━━━━━━━\u001b[0m\u001b[37m\u001b[0m \u001b[1m1s\u001b[0m 4ms/step - accuracy: 0.8214 - loss: 0.3756\n",
      "Epoch 67/100\n",
      "\u001b[1m176/176\u001b[0m \u001b[32m━━━━━━━━━━━━━━━━━━━━\u001b[0m\u001b[37m\u001b[0m \u001b[1m1s\u001b[0m 5ms/step - accuracy: 0.8197 - loss: 0.3920\n",
      "Epoch 68/100\n",
      "\u001b[1m176/176\u001b[0m \u001b[32m━━━━━━━━━━━━━━━━━━━━\u001b[0m\u001b[37m\u001b[0m \u001b[1m1s\u001b[0m 4ms/step - accuracy: 0.8260 - loss: 0.3754\n",
      "Epoch 69/100\n",
      "\u001b[1m176/176\u001b[0m \u001b[32m━━━━━━━━━━━━━━━━━━━━\u001b[0m\u001b[37m\u001b[0m \u001b[1m1s\u001b[0m 4ms/step - accuracy: 0.8178 - loss: 0.3878\n",
      "Epoch 70/100\n",
      "\u001b[1m176/176\u001b[0m \u001b[32m━━━━━━━━━━━━━━━━━━━━\u001b[0m\u001b[37m\u001b[0m \u001b[1m1s\u001b[0m 4ms/step - accuracy: 0.8148 - loss: 0.3978\n",
      "Epoch 71/100\n",
      "\u001b[1m176/176\u001b[0m \u001b[32m━━━━━━━━━━━━━━━━━━━━\u001b[0m\u001b[37m\u001b[0m \u001b[1m1s\u001b[0m 5ms/step - accuracy: 0.8323 - loss: 0.3702\n",
      "Epoch 72/100\n",
      "\u001b[1m176/176\u001b[0m \u001b[32m━━━━━━━━━━━━━━━━━━━━\u001b[0m\u001b[37m\u001b[0m \u001b[1m1s\u001b[0m 4ms/step - accuracy: 0.8182 - loss: 0.3865\n",
      "Epoch 73/100\n",
      "\u001b[1m176/176\u001b[0m \u001b[32m━━━━━━━━━━━━━━━━━━━━\u001b[0m\u001b[37m\u001b[0m \u001b[1m1s\u001b[0m 4ms/step - accuracy: 0.8305 - loss: 0.3793\n",
      "Epoch 74/100\n",
      "\u001b[1m176/176\u001b[0m \u001b[32m━━━━━━━━━━━━━━━━━━━━\u001b[0m\u001b[37m\u001b[0m \u001b[1m1s\u001b[0m 4ms/step - accuracy: 0.8278 - loss: 0.3749\n",
      "Epoch 75/100\n",
      "\u001b[1m176/176\u001b[0m \u001b[32m━━━━━━━━━━━━━━━━━━━━\u001b[0m\u001b[37m\u001b[0m \u001b[1m1s\u001b[0m 4ms/step - accuracy: 0.8278 - loss: 0.3789\n",
      "Epoch 76/100\n",
      "\u001b[1m176/176\u001b[0m \u001b[32m━━━━━━━━━━━━━━━━━━━━\u001b[0m\u001b[37m\u001b[0m \u001b[1m1s\u001b[0m 5ms/step - accuracy: 0.8234 - loss: 0.3952\n",
      "Epoch 77/100\n",
      "\u001b[1m176/176\u001b[0m \u001b[32m━━━━━━━━━━━━━━━━━━━━\u001b[0m\u001b[37m\u001b[0m \u001b[1m1s\u001b[0m 4ms/step - accuracy: 0.8258 - loss: 0.3789\n",
      "Epoch 78/100\n",
      "\u001b[1m176/176\u001b[0m \u001b[32m━━━━━━━━━━━━━━━━━━━━\u001b[0m\u001b[37m\u001b[0m \u001b[1m1s\u001b[0m 4ms/step - accuracy: 0.8229 - loss: 0.3826\n",
      "Epoch 79/100\n",
      "\u001b[1m176/176\u001b[0m \u001b[32m━━━━━━━━━━━━━━━━━━━━\u001b[0m\u001b[37m\u001b[0m \u001b[1m1s\u001b[0m 5ms/step - accuracy: 0.8239 - loss: 0.3870\n",
      "Epoch 80/100\n",
      "\u001b[1m176/176\u001b[0m \u001b[32m━━━━━━━━━━━━━━━━━━━━\u001b[0m\u001b[37m\u001b[0m \u001b[1m1s\u001b[0m 4ms/step - accuracy: 0.8147 - loss: 0.3918\n",
      "Epoch 81/100\n",
      "\u001b[1m176/176\u001b[0m \u001b[32m━━━━━━━━━━━━━━━━━━━━\u001b[0m\u001b[37m\u001b[0m \u001b[1m1s\u001b[0m 4ms/step - accuracy: 0.8144 - loss: 0.3887\n",
      "Epoch 82/100\n",
      "\u001b[1m176/176\u001b[0m \u001b[32m━━━━━━━━━━━━━━━━━━━━\u001b[0m\u001b[37m\u001b[0m \u001b[1m1s\u001b[0m 4ms/step - accuracy: 0.8247 - loss: 0.3811\n",
      "Epoch 83/100\n",
      "\u001b[1m176/176\u001b[0m \u001b[32m━━━━━━━━━━━━━━━━━━━━\u001b[0m\u001b[37m\u001b[0m \u001b[1m1s\u001b[0m 4ms/step - accuracy: 0.8235 - loss: 0.3777\n",
      "Epoch 84/100\n",
      "\u001b[1m176/176\u001b[0m \u001b[32m━━━━━━━━━━━━━━━━━━━━\u001b[0m\u001b[37m\u001b[0m \u001b[1m1s\u001b[0m 6ms/step - accuracy: 0.8290 - loss: 0.3737\n",
      "Epoch 85/100\n",
      "\u001b[1m176/176\u001b[0m \u001b[32m━━━━━━━━━━━━━━━━━━━━\u001b[0m\u001b[37m\u001b[0m \u001b[1m1s\u001b[0m 5ms/step - accuracy: 0.8165 - loss: 0.3951\n",
      "Epoch 86/100\n",
      "\u001b[1m176/176\u001b[0m \u001b[32m━━━━━━━━━━━━━━━━━━━━\u001b[0m\u001b[37m\u001b[0m \u001b[1m1s\u001b[0m 5ms/step - accuracy: 0.8234 - loss: 0.3805\n",
      "Epoch 87/100\n",
      "\u001b[1m176/176\u001b[0m \u001b[32m━━━━━━━━━━━━━━━━━━━━\u001b[0m\u001b[37m\u001b[0m \u001b[1m1s\u001b[0m 4ms/step - accuracy: 0.8238 - loss: 0.3826\n",
      "Epoch 88/100\n",
      "\u001b[1m176/176\u001b[0m \u001b[32m━━━━━━━━━━━━━━━━━━━━\u001b[0m\u001b[37m\u001b[0m \u001b[1m1s\u001b[0m 5ms/step - accuracy: 0.8197 - loss: 0.3946\n",
      "Epoch 89/100\n",
      "\u001b[1m176/176\u001b[0m \u001b[32m━━━━━━━━━━━━━━━━━━━━\u001b[0m\u001b[37m\u001b[0m \u001b[1m1s\u001b[0m 4ms/step - accuracy: 0.8271 - loss: 0.3852\n",
      "Epoch 90/100\n",
      "\u001b[1m176/176\u001b[0m \u001b[32m━━━━━━━━━━━━━━━━━━━━\u001b[0m\u001b[37m\u001b[0m \u001b[1m1s\u001b[0m 4ms/step - accuracy: 0.8212 - loss: 0.3826\n",
      "Epoch 91/100\n",
      "\u001b[1m176/176\u001b[0m \u001b[32m━━━━━━━━━━━━━━━━━━━━\u001b[0m\u001b[37m\u001b[0m \u001b[1m2s\u001b[0m 8ms/step - accuracy: 0.8215 - loss: 0.3829\n",
      "Epoch 92/100\n",
      "\u001b[1m176/176\u001b[0m \u001b[32m━━━━━━━━━━━━━━━━━━━━\u001b[0m\u001b[37m\u001b[0m \u001b[1m1s\u001b[0m 7ms/step - accuracy: 0.8239 - loss: 0.3814\n",
      "Epoch 93/100\n",
      "\u001b[1m176/176\u001b[0m \u001b[32m━━━━━━━━━━━━━━━━━━━━\u001b[0m\u001b[37m\u001b[0m \u001b[1m1s\u001b[0m 7ms/step - accuracy: 0.8265 - loss: 0.3860\n",
      "Epoch 94/100\n",
      "\u001b[1m176/176\u001b[0m \u001b[32m━━━━━━━━━━━━━━━━━━━━\u001b[0m\u001b[37m\u001b[0m \u001b[1m1s\u001b[0m 7ms/step - accuracy: 0.8261 - loss: 0.3677\n",
      "Epoch 95/100\n",
      "\u001b[1m176/176\u001b[0m \u001b[32m━━━━━━━━━━━━━━━━━━━━\u001b[0m\u001b[37m\u001b[0m \u001b[1m1s\u001b[0m 5ms/step - accuracy: 0.8227 - loss: 0.3809\n",
      "Epoch 96/100\n",
      "\u001b[1m176/176\u001b[0m \u001b[32m━━━━━━━━━━━━━━━━━━━━\u001b[0m\u001b[37m\u001b[0m \u001b[1m1s\u001b[0m 5ms/step - accuracy: 0.8264 - loss: 0.3783\n",
      "Epoch 97/100\n",
      "\u001b[1m176/176\u001b[0m \u001b[32m━━━━━━━━━━━━━━━━━━━━\u001b[0m\u001b[37m\u001b[0m \u001b[1m1s\u001b[0m 5ms/step - accuracy: 0.8316 - loss: 0.3666\n",
      "Epoch 98/100\n",
      "\u001b[1m176/176\u001b[0m \u001b[32m━━━━━━━━━━━━━━━━━━━━\u001b[0m\u001b[37m\u001b[0m \u001b[1m1s\u001b[0m 4ms/step - accuracy: 0.8260 - loss: 0.3747\n",
      "Epoch 99/100\n",
      "\u001b[1m176/176\u001b[0m \u001b[32m━━━━━━━━━━━━━━━━━━━━\u001b[0m\u001b[37m\u001b[0m \u001b[1m1s\u001b[0m 5ms/step - accuracy: 0.8295 - loss: 0.3702\n",
      "Epoch 100/100\n",
      "\u001b[1m176/176\u001b[0m \u001b[32m━━━━━━━━━━━━━━━━━━━━\u001b[0m\u001b[37m\u001b[0m \u001b[1m1s\u001b[0m 5ms/step - accuracy: 0.8247 - loss: 0.3792\n"
     ]
    },
    {
     "data": {
      "text/plain": [
       "<keras.src.callbacks.history.History at 0x1e96e69c7c0>"
      ]
     },
     "execution_count": 28,
     "metadata": {},
     "output_type": "execute_result"
    }
   ],
   "source": [
    "import tensorflow as tf\n",
    "from tensorflow import keras\n",
    "\n",
    "model = keras.Sequential([\n",
    "    keras.layers.Dense(20, input_shape=(26,), activation = 'relu'),\n",
    "    keras.layers.Dense(1, activation = 'sigmoid'),     \n",
    "])\n",
    "\n",
    "model.compile(optimizer='adam',\n",
    "            loss='binary_crossentropy',\n",
    "            metrics=['accuracy'])\n",
    "\n",
    "model.fit(X_train, y_train, epochs=100)"
   ]
  },
  {
   "cell_type": "code",
   "execution_count": 29,
   "id": "c823bcc9",
   "metadata": {},
   "outputs": [
    {
     "name": "stdout",
     "output_type": "stream",
     "text": [
      "\u001b[1m44/44\u001b[0m \u001b[32m━━━━━━━━━━━━━━━━━━━━\u001b[0m\u001b[37m\u001b[0m \u001b[1m1s\u001b[0m 2ms/step - accuracy: 0.7843 - loss: 0.4406 \n"
     ]
    },
    {
     "data": {
      "text/plain": [
       "[0.4493982493877411, 0.7810945510864258]"
      ]
     },
     "execution_count": 29,
     "metadata": {},
     "output_type": "execute_result"
    }
   ],
   "source": [
    "model.evaluate(X_test, y_test)"
   ]
  },
  {
   "cell_type": "code",
   "execution_count": 31,
   "id": "13a1cb42",
   "metadata": {},
   "outputs": [
    {
     "name": "stdout",
     "output_type": "stream",
     "text": [
      "\u001b[1m44/44\u001b[0m \u001b[32m━━━━━━━━━━━━━━━━━━━━\u001b[0m\u001b[37m\u001b[0m \u001b[1m0s\u001b[0m 2ms/step \n"
     ]
    },
    {
     "data": {
      "text/plain": [
       "array([[0.31747475],\n",
       "       [0.40506095],\n",
       "       [0.00932997],\n",
       "       [0.7650689 ],\n",
       "       [0.40701967]], dtype=float32)"
      ]
     },
     "execution_count": 31,
     "metadata": {},
     "output_type": "execute_result"
    }
   ],
   "source": [
    "yp = model.predict(X_test)\n",
    "yp[:5]"
   ]
  },
  {
   "cell_type": "code",
   "execution_count": 32,
   "id": "e61d085d",
   "metadata": {},
   "outputs": [
    {
     "data": {
      "text/plain": [
       "2660    0\n",
       "744     0\n",
       "5579    1\n",
       "64      1\n",
       "3287    1\n",
       "Name: Churn, dtype: int64"
      ]
     },
     "execution_count": 32,
     "metadata": {},
     "output_type": "execute_result"
    }
   ],
   "source": [
    "y_test[:5]"
   ]
  },
  {
   "cell_type": "code",
   "execution_count": 33,
   "id": "4c8d2e99",
   "metadata": {},
   "outputs": [],
   "source": [
    "y_pred = []\n",
    "for element in yp:\n",
    "    if element > 0.5:\n",
    "        y_pred.append(1)\n",
    "    else:\n",
    "        y_pred.append(0)    "
   ]
  },
  {
   "cell_type": "code",
   "execution_count": 34,
   "id": "007c702b",
   "metadata": {},
   "outputs": [
    {
     "data": {
      "text/plain": [
       "[0, 0, 0, 1, 0]"
      ]
     },
     "execution_count": 34,
     "metadata": {},
     "output_type": "execute_result"
    }
   ],
   "source": [
    "y_pred[:5]"
   ]
  },
  {
   "cell_type": "code",
   "execution_count": 35,
   "id": "99dcad32",
   "metadata": {},
   "outputs": [
    {
     "name": "stdout",
     "output_type": "stream",
     "text": [
      "              precision    recall  f1-score   support\n",
      "\n",
      "           0       0.81      0.90      0.85       999\n",
      "           1       0.67      0.48      0.56       408\n",
      "\n",
      "    accuracy                           0.78      1407\n",
      "   macro avg       0.74      0.69      0.71      1407\n",
      "weighted avg       0.77      0.78      0.77      1407\n",
      "\n"
     ]
    }
   ],
   "source": [
    "from sklearn.metrics import confusion_matrix, classification_report\n",
    "\n",
    "print(classification_report(y_test, y_pred))"
   ]
  },
  {
   "cell_type": "markdown",
   "id": "86cfee72",
   "metadata": {},
   "source": [
    "Confusion Matrics\n",
    "Anything not in diagonal all the numbers are errors"
   ]
  },
  {
   "cell_type": "code",
   "execution_count": 36,
   "id": "f7a87bfa",
   "metadata": {},
   "outputs": [
    {
     "data": {
      "text/plain": [
       "Text(95.72222222222221, 0.5, 'Truth')"
      ]
     },
     "execution_count": 36,
     "metadata": {},
     "output_type": "execute_result"
    },
    {
     "data": {
      "image/png": "[encoded data removed]",
      "text/plain": [
       "<Figure size 1000x700 with 2 Axes>"
      ]
     },
     "metadata": {},
     "output_type": "display_data"
    }
   ],
   "source": [
    "import seaborn as sn\n",
    "cm = tf.math.confusion_matrix(labels=y_test, predictions=y_pred)\n",
    "\n",
    "pyplot.figure(figsize=(10,7))\n",
    "sn.heatmap(cm, annot=True, fmt='d')\n",
    "pyplot.xlabel(\"Predicted\")\n",
    "pyplot.ylabel(\"Truth\")\n"
   ]
  },
  {
   "cell_type": "markdown",
   "id": "5d61ebeb",
   "metadata": {},
   "source": [
    "Accuracy"
   ]
  },
  {
   "cell_type": "code",
   "execution_count": 37,
   "id": "7d0c981e",
   "metadata": {},
   "outputs": [
    {
     "data": {
      "text/plain": [
       "0.78"
      ]
     },
     "execution_count": 37,
     "metadata": {},
     "output_type": "execute_result"
    }
   ],
   "source": [
    "round((903+196)/(903+96+212+196), 2)"
   ]
  },
  {
   "cell_type": "markdown",
   "id": "dcdecc03",
   "metadata": {},
   "source": [
    "Precision for 0 class. Precision for customers who did not churn"
   ]
  },
  {
   "cell_type": "code",
   "execution_count": 38,
   "id": "bb81ba90",
   "metadata": {},
   "outputs": [
    {
     "data": {
      "text/plain": [
       "0.82"
      ]
     },
     "execution_count": 38,
     "metadata": {},
     "output_type": "execute_result"
    }
   ],
   "source": [
    "round(903/(903+196), 2)"
   ]
  },
  {
   "cell_type": "markdown",
   "id": "dd20ab98",
   "metadata": {},
   "source": [
    "Precision for 1 class. Precision for customers who actually churn"
   ]
  },
  {
   "cell_type": "code",
   "execution_count": 39,
   "id": "30945ec0",
   "metadata": {},
   "outputs": [
    {
     "data": {
      "text/plain": [
       "0.67"
      ]
     },
     "execution_count": 39,
     "metadata": {},
     "output_type": "execute_result"
    }
   ],
   "source": [
    "round(196/(196+96), 2)"
   ]
  },
  {
   "cell_type": "code",
   "execution_count": null,
   "id": "3ee6aaea",
   "metadata": {},
   "outputs": [],
   "source": []
  }
 ],
 "metadata": {
  "kernelspec": {
   "display_name": "ds_env",
   "language": "python",
   "name": "python3"
  },
  "language_info": {
   "codemirror_mode": {
    "name": "ipython",
    "version": 3
   },
   "file_extension": ".py",
   "mimetype": "text/x-python",
   "name": "python",
   "nbconvert_exporter": "python",
   "pygments_lexer": "ipython3",
   "version": "3.9.18"
  }
 },
 "nbformat": 4,
 "nbformat_minor": 5
}
